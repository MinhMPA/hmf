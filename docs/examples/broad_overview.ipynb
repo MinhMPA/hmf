{
 "cells": [
  {
   "cell_type": "markdown",
   "metadata": {},
   "source": [
    "# Broad Overview of `hmf`"
   ]
  },
  {
   "cell_type": "markdown",
   "metadata": {},
   "source": [
    "In this tutorial/demo, we provide a broad overview of the way `hmf` works, and its features. \n",
    "For those really just needing to make a quick plot of a mass function, the best place to start is in the [Quickstart](your_first_plot.html) tutorial. This tutorial will go into a little more depth (without exploring more advanced niche features)."
   ]
  },
  {
   "cell_type": "markdown",
   "metadata": {},
   "source": [
    "## The Package Layout"
   ]
  },
  {
   "cell_type": "markdown",
   "metadata": {},
   "source": [
    "`hmf` is quite modular, and contains a number of sub-packages concerning each of the physical components that go into defining the halo mass function:"
   ]
  },
  {
   "cell_type": "code",
   "execution_count": null,
   "metadata": {
    "ExecuteTime": {
     "end_time": "2020-05-20T04:48:50.517186Z",
     "start_time": "2020-05-20T04:48:49.906027Z"
    }
   },
   "outputs": [],
   "source": [
    "from hmf import (\n",
    "    cosmology,      # Defines cosmographic parameters and growth functions\n",
    "    density_field,  # Defines power spectra and transfer functions, as well as window functions/filters on those\n",
    "    halos,          # Defines halo-specific forms such as mass definitions\n",
    "    mass_function   # Defines routines that combine the above to obtain halo mass functions\n",
    ")"
   ]
  },
  {
   "cell_type": "markdown",
   "metadata": {},
   "source": [
    "While each of these modules has tools that can be useful for more advanced usage, the primary point of contact with `hmf` is the `MassFunction` object, which essentially contains all the working of the full package. This lives in the `mass_function` submodule, but can be imported from the top level:"
   ]
  },
  {
   "cell_type": "code",
   "execution_count": null,
   "metadata": {
    "ExecuteTime": {
     "end_time": "2020-05-20T04:48:50.593598Z",
     "start_time": "2020-05-20T04:48:50.590921Z"
    }
   },
   "outputs": [],
   "source": [
    "from hmf import MassFunction"
   ]
  },
  {
   "cell_type": "markdown",
   "metadata": {},
   "source": [
    "## Frameworks -- Caching and Updating"
   ]
  },
  {
   "cell_type": "markdown",
   "metadata": {},
   "source": [
    "Each main entrypoint class in `hmf` (this includes `Cosmology`, `Transfer` and `MassFunction`) is what we call a `Framework`. This name is not particularly descriptive, but it means that each of these objects offers a number of similar points of functionality. Here, we'll demonstrate a few of these bits of functionality on the `Transfer` class, but it should be remembered that they are the same for all of these."
   ]
  },
  {
   "cell_type": "code",
   "execution_count": null,
   "metadata": {
    "ExecuteTime": {
     "end_time": "2020-05-20T04:48:53.551677Z",
     "start_time": "2020-05-20T04:48:53.547743Z"
    }
   },
   "outputs": [],
   "source": [
    "from hmf import Transfer"
   ]
  },
  {
   "cell_type": "code",
   "execution_count": null,
   "metadata": {
    "ExecuteTime": {
     "end_time": "2020-05-20T04:48:54.384231Z",
     "start_time": "2020-05-20T04:48:54.378074Z"
    }
   },
   "outputs": [],
   "source": [
    "tr = Transfer()"
   ]
  },
  {
   "cell_type": "markdown",
   "metadata": {},
   "source": [
    "The first common point is that each of the frameworks has defaults for all of its parameters, and a reasonable object can be created by passing no parameters, as we just did.\n",
    "\n",
    "We can, like any object in Python, get some help with what parameters are available by using `help`:"
   ]
  },
  {
   "cell_type": "code",
   "execution_count": null,
   "metadata": {
    "ExecuteTime": {
     "end_time": "2020-05-20T03:47:53.755042Z",
     "start_time": "2020-05-20T03:47:53.741694Z"
    }
   },
   "outputs": [],
   "source": [
    "help(Transfer)"
   ]
  },
  {
   "cell_type": "markdown",
   "metadata": {},
   "source": [
    "That's a lot of help! You can also consult the [API documentation](../api.html). However, since many of the parameters to `Transfer` merely get passed through to `Cosmology`, they get lost in this documentation. You can get a list of all possible parameters for a framework like this:"
   ]
  },
  {
   "cell_type": "code",
   "execution_count": null,
   "metadata": {
    "ExecuteTime": {
     "end_time": "2020-05-20T03:40:58.937485Z",
     "start_time": "2020-05-20T03:40:58.922927Z"
    }
   },
   "outputs": [],
   "source": [
    "Transfer.get_all_parameter_defaults()"
   ]
  },
  {
   "cell_type": "markdown",
   "metadata": {},
   "source": [
    "Again, you can consult the API docs for information on each one, bu you can also use this special function:"
   ]
  },
  {
   "cell_type": "code",
   "execution_count": null,
   "metadata": {
    "ExecuteTime": {
     "end_time": "2020-05-20T03:43:35.792099Z",
     "start_time": "2020-05-20T03:43:35.782674Z"
    }
   },
   "outputs": [],
   "source": [
    "Transfer.parameter_info()"
   ]
  },
  {
   "cell_type": "markdown",
   "metadata": {},
   "source": [
    "Almost all of the things that a framework can calculate -- whether they be transfer functions, growth factors or mass functions -- will appear to be attributes of the object. That is, you don't \"call\" them like functions, but instead just access them like data. In fact, they are lazily calculated as needed, and then stored in memory once calculated. So, for example, let's calculate the matter power spectrum:"
   ]
  },
  {
   "cell_type": "code",
   "execution_count": null,
   "metadata": {
    "ExecuteTime": {
     "end_time": "2020-05-20T03:51:41.167260Z",
     "start_time": "2020-05-20T03:51:38.306435Z"
    }
   },
   "outputs": [],
   "source": [
    "%time tr.power.max()"
   ]
  },
  {
   "cell_type": "markdown",
   "metadata": {},
   "source": [
    "This took almost 3 seconds on this system, as it called `CAMB` in the background to calculate the power spectrum.\n",
    "However, it is now cached, and if we call it again:"
   ]
  },
  {
   "cell_type": "code",
   "execution_count": null,
   "metadata": {
    "ExecuteTime": {
     "end_time": "2020-05-20T03:52:32.633400Z",
     "start_time": "2020-05-20T03:52:32.618554Z"
    }
   },
   "outputs": [],
   "source": [
    "%time tr.power.max()"
   ]
  },
  {
   "cell_type": "markdown",
   "metadata": {},
   "source": [
    "It takes less than 1/1000 of a second, as its just accessing memory. More than that, each (non-trivial) quantity that the power spectrum depends on is also cached, so to access the transfer function:"
   ]
  },
  {
   "cell_type": "code",
   "execution_count": null,
   "metadata": {
    "ExecuteTime": {
     "end_time": "2020-05-20T03:54:38.006836Z",
     "start_time": "2020-05-20T03:54:37.995756Z"
    }
   },
   "outputs": [],
   "source": [
    "%time tr.transfer_function.max()"
   ]
  },
  {
   "cell_type": "markdown",
   "metadata": {},
   "source": [
    "Also returns instantly. "
   ]
  },
  {
   "cell_type": "markdown",
   "metadata": {},
   "source": [
    "### Updating Parameters"
   ]
  },
  {
   "cell_type": "markdown",
   "metadata": {},
   "source": [
    "Often you'll want to compute a certain quantity over a large number of values of a given parameter (or multiple parameters). Of course, you could just create a new framework each time (eg. a `Transfer` object), but that is often going to be much slower than necessary, because often the parameter does not affect many of the underlying quantities. For instance, updating the redshift doesn't change the underlying transfer function, and the power spectrum just changes by an overall factor. \n",
    "\n",
    "Internally, each framework keeps precise track of which parameters affect each quantity, which enables robust cache invalidation -- in other words, we can keep a computed quantity cached when a parameter is updated that doesn't affect it, and when other quantities that depend on that quantity are required, they can just access it again directly. Let's see this with an example -- 20 calculations of the power spectrum at different redshifts:"
   ]
  },
  {
   "cell_type": "code",
   "execution_count": null,
   "metadata": {
    "ExecuteTime": {
     "end_time": "2020-05-20T04:49:16.925067Z",
     "start_time": "2020-05-20T04:49:16.764042Z"
    }
   },
   "outputs": [],
   "source": [
    "import numpy as np\n",
    "%matplotlib inline\n",
    "import matplotlib.pyplot as plt"
   ]
  },
  {
   "cell_type": "code",
   "execution_count": null,
   "metadata": {
    "ExecuteTime": {
     "end_time": "2020-05-20T04:02:27.817305Z",
     "start_time": "2020-05-20T04:02:27.809316Z"
    }
   },
   "outputs": [],
   "source": [
    "redshifts = np.random.uniform(0, 3, size=20)"
   ]
  },
  {
   "cell_type": "code",
   "execution_count": null,
   "metadata": {
    "ExecuteTime": {
     "end_time": "2020-05-20T04:10:48.179515Z",
     "start_time": "2020-05-20T04:09:43.395542Z"
    }
   },
   "outputs": [],
   "source": [
    "%%time\n",
    "\n",
    "for z in redshifts:\n",
    "    tr_ = Transfer(z=z)\n",
    "    plt.plot(tr_.k, tr_.power)\n",
    "\n",
    "plt.xscale('log')\n",
    "plt.yscale('log');"
   ]
  },
  {
   "cell_type": "markdown",
   "metadata": {},
   "source": [
    "If instead we use our original transfer object and merely update the redshift in-place:"
   ]
  },
  {
   "cell_type": "code",
   "execution_count": null,
   "metadata": {
    "ExecuteTime": {
     "end_time": "2020-05-20T04:10:53.070856Z",
     "start_time": "2020-05-20T04:10:52.613604Z"
    }
   },
   "outputs": [],
   "source": [
    "%%time\n",
    "\n",
    "for z in redshifts:\n",
    "    tr.z=z\n",
    "    plt.plot(tr.k, tr.power)\n",
    "\n",
    "plt.xscale('log')\n",
    "plt.yscale('log');"
   ]
  },
  {
   "cell_type": "markdown",
   "metadata": {},
   "source": [
    "See that the output plots are precisely the same -- the power spectrum is being updated for each redshift, but by using the caching mechanism we improve performance by three orders of magnitude."
   ]
  },
  {
   "cell_type": "markdown",
   "metadata": {},
   "source": [
    "You can also use the in-built `.update` method to update parameters:"
   ]
  },
  {
   "cell_type": "code",
   "execution_count": null,
   "metadata": {
    "ExecuteTime": {
     "end_time": "2020-05-20T04:12:20.578501Z",
     "start_time": "2020-05-20T04:12:20.573100Z"
    }
   },
   "outputs": [],
   "source": [
    "tr.update(z=0)"
   ]
  },
  {
   "cell_type": "markdown",
   "metadata": {},
   "source": [
    "## Components"
   ]
  },
  {
   "cell_type": "markdown",
   "metadata": {},
   "source": [
    "Inside frameworks are a whole bunch of parameters. Some of these are simple numerical parameters, but many of them are themselves complex components tasked with computing specialized quantities. Furthermore, many of these components have various possible models that you might want to switch between. To make it easy to do so, we make each of these a formal `Component` object. Once instance of these is are the transfer function models themselves. We have been using CAMB to compute the transfer function, but a popular approximation is the Eisenstein-Hu model:"
   ]
  },
  {
   "cell_type": "code",
   "execution_count": null,
   "metadata": {
    "ExecuteTime": {
     "end_time": "2020-05-20T04:16:40.536376Z",
     "start_time": "2020-05-20T04:16:40.532871Z"
    }
   },
   "outputs": [],
   "source": [
    "tr.transfer_model = 'EH'"
   ]
  },
  {
   "cell_type": "markdown",
   "metadata": {},
   "source": [
    "For components, you can always pass a string referring to the name of the class, or the actual class itself:"
   ]
  },
  {
   "cell_type": "code",
   "execution_count": null,
   "metadata": {
    "ExecuteTime": {
     "end_time": "2020-05-20T04:17:53.501490Z",
     "start_time": "2020-05-20T04:17:53.497332Z"
    }
   },
   "outputs": [],
   "source": [
    "tr.transfer_model = density_field.transfer_models.EH"
   ]
  },
  {
   "cell_type": "markdown",
   "metadata": {},
   "source": [
    "The latter is useful because it gives you a lot of flexibility -- you could write your own class and pass it in! For more on that, see [Plugins and Extensions](plugins_and_extending.html).\n",
    "\n",
    "All formal Components within `hmf` are passed to a framework via the `componentname_model` parameter. So Filters are passed as `filter_model`. The actual model instance (the thing that will do the calculations) is then available within the framework as as the component name:"
   ]
  },
  {
   "cell_type": "code",
   "execution_count": null,
   "metadata": {
    "ExecuteTime": {
     "end_time": "2020-05-20T04:20:21.250767Z",
     "start_time": "2020-05-20T04:20:21.241153Z"
    }
   },
   "outputs": [],
   "source": [
    "tr.transfer"
   ]
  },
  {
   "cell_type": "markdown",
   "metadata": {},
   "source": [
    "With this, we can compute a bunch of stuff, like the (log) transfer function:"
   ]
  },
  {
   "cell_type": "code",
   "execution_count": null,
   "metadata": {
    "ExecuteTime": {
     "end_time": "2020-05-20T04:20:57.884074Z",
     "start_time": "2020-05-20T04:20:57.874971Z"
    }
   },
   "outputs": [],
   "source": [
    "tr.transfer.lnt(np.linspace(0,1,10))"
   ]
  },
  {
   "cell_type": "markdown",
   "metadata": {},
   "source": [
    "This is of course what is used to generate the transfer function accessible in the `Transfer` framework. But sometimes there are other goodies hidden away in the components that can be useful!"
   ]
  },
  {
   "cell_type": "markdown",
   "metadata": {},
   "source": [
    "To update parameters of the components requires passing a dictionary of parameters to the parameter `componentname_params`. For example, the growth function is a component:"
   ]
  },
  {
   "cell_type": "code",
   "execution_count": null,
   "metadata": {
    "ExecuteTime": {
     "end_time": "2020-05-20T04:25:05.763829Z",
     "start_time": "2020-05-20T04:25:05.755394Z"
    }
   },
   "outputs": [],
   "source": [
    "tr.growth_model"
   ]
  },
  {
   "cell_type": "markdown",
   "metadata": {},
   "source": [
    "We can update its params like so:"
   ]
  },
  {
   "cell_type": "code",
   "execution_count": null,
   "metadata": {
    "ExecuteTime": {
     "end_time": "2020-05-20T04:27:42.480823Z",
     "start_time": "2020-05-20T04:27:42.474988Z"
    }
   },
   "outputs": [],
   "source": [
    "tr.growth_params = {'dlna': 1}  # By default it is 0.01"
   ]
  },
  {
   "cell_type": "markdown",
   "metadata": {},
   "source": [
    "Let's compute the growth factor:"
   ]
  },
  {
   "cell_type": "code",
   "execution_count": null,
   "metadata": {
    "ExecuteTime": {
     "end_time": "2020-05-20T04:27:43.483881Z",
     "start_time": "2020-05-20T04:27:43.473967Z"
    }
   },
   "outputs": [],
   "source": [
    "tr.growth.growth_factor(z=10)"
   ]
  },
  {
   "cell_type": "markdown",
   "metadata": {},
   "source": [
    "Now update back to the original"
   ]
  },
  {
   "cell_type": "code",
   "execution_count": null,
   "metadata": {
    "ExecuteTime": {
     "end_time": "2020-05-20T04:27:47.562230Z",
     "start_time": "2020-05-20T04:27:47.554877Z"
    }
   },
   "outputs": [],
   "source": [
    "tr.growth_params = {\"dlna\": 0.01}"
   ]
  },
  {
   "cell_type": "code",
   "execution_count": null,
   "metadata": {
    "ExecuteTime": {
     "end_time": "2020-05-20T04:27:48.080916Z",
     "start_time": "2020-05-20T04:27:48.073360Z"
    }
   },
   "outputs": [],
   "source": [
    "tr.growth.growth_factor(z=10)"
   ]
  },
  {
   "cell_type": "markdown",
   "metadata": {},
   "source": [
    "Another example of a Component is the cosmology, and you can see the [Dealing with Cosmology](deal_with_cosmology.html) tutorial for more details there -- but it follows the same pattern."
   ]
  },
  {
   "cell_type": "markdown",
   "metadata": {},
   "source": [
    "A full list of the available components in `hmf` is as follows:\n",
    "\n",
    "* `Cosmology`\n",
    "* `GrowthFactor`\n",
    "* `TransferModel`\n",
    "* `Filter`\n",
    "* `MassDefinition`\n",
    "* `FittingFunction`\n",
    "\n",
    "And each of these has several models."
   ]
  },
  {
   "cell_type": "markdown",
   "metadata": {},
   "source": [
    "## Using `hmf` Efficiently"
   ]
  },
  {
   "cell_type": "markdown",
   "metadata": {},
   "source": [
    "We have already discussed caching and how it speeds up many calculations very significantly. However, it is only useful if used correctly. Let's say you want to calculate the transfer function for multiple values of both $\\Omega_m$ and the redshift $z$. Then to get the speedup, you must use the faster updater as the inner loop, otherwise the object still needs to compute the slower update many times. \n",
    "\n",
    "In this case, the redshift should be the inner loop, since $\\Omega_m$ affects the basic transfer function, which is typically the slowest calculation of all. Much of the time, the relevant order of parameters should be clear, but you can determine them explicitly using a helper function:"
   ]
  },
  {
   "cell_type": "code",
   "execution_count": null,
   "metadata": {
    "ExecuteTime": {
     "end_time": "2020-05-20T04:36:38.147314Z",
     "start_time": "2020-05-20T04:36:38.141738Z"
    }
   },
   "outputs": [],
   "source": [
    "from hmf import get_best_param_order"
   ]
  },
  {
   "cell_type": "code",
   "execution_count": null,
   "metadata": {
    "ExecuteTime": {
     "end_time": "2020-05-20T04:37:21.330867Z",
     "start_time": "2020-05-20T04:37:18.399922Z"
    }
   },
   "outputs": [],
   "source": [
    "get_best_param_order(Transfer, q='power')"
   ]
  },
  {
   "cell_type": "markdown",
   "metadata": {},
   "source": [
    "This call should be interpreted as determining the best order for calculating the `power` in the `Transfer` framework, and the output is in order of fastest to slowest. We see, for example, that `cosmo_params` (where $\\Omega_m$ lives) is far down the list compared to redshift. "
   ]
  },
  {
   "cell_type": "markdown",
   "metadata": {},
   "source": [
    "You can go even further than that and use another helper function to \"just get\" the output quantities over the loop for you:"
   ]
  },
  {
   "cell_type": "code",
   "execution_count": null,
   "metadata": {
    "ExecuteTime": {
     "end_time": "2020-05-20T04:48:59.670583Z",
     "start_time": "2020-05-20T04:48:59.667144Z"
    }
   },
   "outputs": [],
   "source": [
    "from hmf import get_hmf"
   ]
  },
  {
   "cell_type": "code",
   "execution_count": null,
   "metadata": {
    "ExecuteTime": {
     "end_time": "2020-05-20T04:49:30.025294Z",
     "start_time": "2020-05-20T04:49:19.915703Z"
    }
   },
   "outputs": [],
   "source": [
    "for power, tr, label in get_hmf(req_qauntities=['power'],\n",
    "                                framework=Transfer,\n",
    "                                fast_kwargs={\"transfer_model\": \"EH\"},\n",
    "                                z=[0,1,2,3,4,5],\n",
    "                                cosmo_params = [{'Om0': 0.3}, {'Om0': 0.2}, {'Om0': 0.4}]):\n",
    "    print(tr.cosmo_params, tr.z)\n",
    "    plt.plot(tr.k, tr.power)\n",
    "\n",
    "plt.xscale(\"log\")\n",
    "plt.yscale('log')"
   ]
  },
  {
   "cell_type": "markdown",
   "metadata": {},
   "source": [
    "Technically, the `get_hmf` function is an iterator, yielding the quantities you ask for (and the full Framework object updated with parameters) on each iteration, but doing it in the optimal order."
   ]
  }
 ],
 "metadata": {
  "kernelspec": {
   "display_name": "venv",
   "language": "python",
   "name": "python3"
  },
  "language_info": {
   "codemirror_mode": {
    "name": "ipython",
    "version": 3
   },
   "file_extension": ".py",
   "mimetype": "text/x-python",
   "name": "python",
   "nbconvert_exporter": "python",
   "pygments_lexer": "ipython3",
   "version": "3.11.2"
  },
  "latex_envs": {
   "LaTeX_envs_menu_present": true,
   "autoclose": true,
   "autocomplete": true,
   "bibliofile": "biblio.bib",
   "cite_by": "apalike",
   "current_citInitial": 1,
   "eqLabelWithNumbers": true,
   "eqNumInitial": 1,
   "hotkeys": {
    "equation": "Ctrl-E",
    "itemize": "Ctrl-I"
   },
   "labels_anchors": false,
   "latex_user_defs": false,
   "report_style_numbering": false,
   "user_envs_cfg": false
  },
  "toc": {
   "base_numbering": 1,
   "nav_menu": {},
   "number_sections": true,
   "sideBar": true,
   "skip_h1_title": false,
   "title_cell": "Table of Contents",
   "title_sidebar": "Contents",
   "toc_cell": false,
   "toc_position": {},
   "toc_section_display": true,
   "toc_window_display": false
  }
 },
 "nbformat": 4,
 "nbformat_minor": 4
}
